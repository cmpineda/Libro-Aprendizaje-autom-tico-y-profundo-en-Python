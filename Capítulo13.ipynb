{
 "cells": [
  {
   "cell_type": "markdown",
   "metadata": {},
   "source": [
    "# Introducción al procesamiento del lenguaje natural"
   ]
  },
  {
   "cell_type": "code",
   "execution_count": 24,
   "metadata": {},
   "outputs": [],
   "source": [
    "from nltk.tokenize import word_tokenize\n",
    "from gensim.models import Word2Vec   "
   ]
  },
  {
   "cell_type": "code",
   "execution_count": 2,
   "metadata": {},
   "outputs": [],
   "source": [
    "def cargar_datos(text_file):\n",
    "    lista = []\n",
    "    oraciones = []\n",
    "    with open(text_file, 'r', encoding=\"utf-8\") as f:\n",
    "        for i, line in enumerate(f):\n",
    "            lista.append(line)\n",
    "    sentencias = list([word_tokenize(frase) for frase in lista])    \n",
    "    return sentencias"
   ]
  },
  {
   "cell_type": "code",
   "execution_count": 13,
   "metadata": {},
   "outputs": [],
   "source": [
    "sentencias = cargar_datos(\"datos.txt\")"
   ]
  },
  {
   "cell_type": "code",
   "execution_count": 14,
   "metadata": {},
   "outputs": [
    {
     "data": {
      "text/plain": [
       "['Desarrollar',\n",
       " 'un',\n",
       " 'sistema',\n",
       " 'que',\n",
       " 'integre',\n",
       " 'distintos',\n",
       " 'algoritmos',\n",
       " 'de',\n",
       " 'procesamiento',\n",
       " 'de',\n",
       " 'imágenes',\n",
       " 'médicas',\n",
       " 'que',\n",
       " 'brinde',\n",
       " 'información',\n",
       " 'relevante',\n",
       " 'para',\n",
       " 'la',\n",
       " 'toma',\n",
       " 'de',\n",
       " 'decisiones',\n",
       " 'en',\n",
       " 'los',\n",
       " 'diagnósticos',\n",
       " 'y',\n",
       " 'tratamiento',\n",
       " 'del',\n",
       " 'SDRA']"
      ]
     },
     "execution_count": 14,
     "metadata": {},
     "output_type": "execute_result"
    }
   ],
   "source": [
    "# mostramos el titulo del primer proyecto\n",
    "sentencias[1]"
   ]
  },
  {
   "cell_type": "code",
   "execution_count": 15,
   "metadata": {},
   "outputs": [
    {
     "data": {
      "text/plain": [
       "(1967, 15960)"
      ]
     },
     "execution_count": 15,
     "metadata": {},
     "output_type": "execute_result"
    }
   ],
   "source": [
    "modelo = Word2Vec(\n",
    "        sentences=sentencias, # datos\n",
    "        size=300, # tamaño del vector para representar cada palabra\n",
    "        window=10, # distancia máxima entre la palabra objetivo y las otras\n",
    "        min_count=5, # minimo número frecuencia de palabras \n",
    "        workers=8,# número de hilos de ejecución\n",
    "        sg=1,# 1 = SKIP , 0 = CBOW\n",
    "        hs=1,\n",
    "        negative=0) \n",
    "modelo.train(sentencias, total_examples=len(sentencias), epochs=20)  # entrenamos el modelo con 20 épocas          "
   ]
  },
  {
   "cell_type": "code",
   "execution_count": 16,
   "metadata": {},
   "outputs": [
    {
     "name": "stderr",
     "output_type": "stream",
     "text": [
      "C:\\Users\\Carlos pineda\\Anaconda3\\lib\\site-packages\\ipykernel_launcher.py:1: DeprecationWarning: Call to deprecated `__getitem__` (Method will be removed in 4.0.0, use self.wv.__getitem__() instead).\n",
      "  \"\"\"Entry point for launching an IPython kernel.\n"
     ]
    }
   ],
   "source": [
    "palabras_incrustadas = modelo[modelo.wv.vocab] # obtenemos los vectores de palabras\n",
    "lista_palabras = list(modelo.wv.vocab) # lista con las palabras"
   ]
  },
  {
   "cell_type": "code",
   "execution_count": 20,
   "metadata": {},
   "outputs": [],
   "source": [
    "def norma_vectorial(vector):\n",
    "    return np.sqrt(np.sum([v**2 for v in vector]))\n",
    "\n",
    "def similitud_coseno(v1, v2):\n",
    "    return np.dot(v1, v2)/float(norma_vectorial(v1)*norma_vectorial(v2))"
   ]
  },
  {
   "cell_type": "code",
   "execution_count": 21,
   "metadata": {},
   "outputs": [
    {
     "name": "stdout",
     "output_type": "stream",
     "text": [
      "Similitud: 0.85 \n"
     ]
    }
   ],
   "source": [
    "# prueba el modelo    \n",
    "print(\"Similitud: {:.2f} \".format(similitud_coseno(palabras_incrustadas[lista_palabras.index(\"sistema\"), :], \n",
    "                          palabras_incrustadas[lista_palabras.index(\"algoritmos\"), :]) ))\n",
    "   "
   ]
  },
  {
   "cell_type": "code",
   "execution_count": 22,
   "metadata": {},
   "outputs": [
    {
     "name": "stdout",
     "output_type": "stream",
     "text": [
      "similitud 0.85 \n"
     ]
    }
   ],
   "source": [
    "s = modelo.wv.similarity(w1=\"sistema\", w2=\"algoritmos\")  \n",
    "print(\"similitud {:.2f} \".format(s))"
   ]
  },
  {
   "cell_type": "code",
   "execution_count": 23,
   "metadata": {},
   "outputs": [
    {
     "name": "stdout",
     "output_type": "stream",
     "text": [
      "Más similar a sistema:  [('de', 0.944409191608429), ('que', 0.9402261972427368), ('el', 0.9326547980308533), ('un', 0.9273082613945007), (',', 0.9259132742881775), ('y', 0.9226377010345459), ('la', 0.9201971292495728), ('los', 0.9196850061416626), ('Desarrollar', 0.9165120124816895), ('una', 0.9134057760238647)]\n"
     ]
    }
   ],
   "source": [
    "palabra = \"sistema\" \n",
    "print(\"Más similar a {0}: \".format(palabra), modelo.wv.most_similar(positive=palabra))"
   ]
  },
  {
   "cell_type": "code",
   "execution_count": null,
   "metadata": {},
   "outputs": [],
   "source": []
  }
 ],
 "metadata": {
  "kernelspec": {
   "display_name": "Python 3",
   "language": "python",
   "name": "python3"
  },
  "language_info": {
   "codemirror_mode": {
    "name": "ipython",
    "version": 3
   },
   "file_extension": ".py",
   "mimetype": "text/x-python",
   "name": "python",
   "nbconvert_exporter": "python",
   "pygments_lexer": "ipython3",
   "version": "3.7.3"
  },
  "toc": {
   "base_numbering": 1,
   "nav_menu": {},
   "number_sections": true,
   "sideBar": true,
   "skip_h1_title": false,
   "title_cell": "Table of Contents",
   "title_sidebar": "Contents",
   "toc_cell": false,
   "toc_position": {},
   "toc_section_display": true,
   "toc_window_display": false
  },
  "varInspector": {
   "cols": {
    "lenName": 16,
    "lenType": 16,
    "lenVar": 40
   },
   "kernels_config": {
    "python": {
     "delete_cmd_postfix": "",
     "delete_cmd_prefix": "del ",
     "library": "var_list.py",
     "varRefreshCmd": "print(var_dic_list())"
    },
    "r": {
     "delete_cmd_postfix": ") ",
     "delete_cmd_prefix": "rm(",
     "library": "var_list.r",
     "varRefreshCmd": "cat(var_dic_list()) "
    }
   },
   "types_to_exclude": [
    "module",
    "function",
    "builtin_function_or_method",
    "instance",
    "_Feature"
   ],
   "window_display": false
  }
 },
 "nbformat": 4,
 "nbformat_minor": 4
}
